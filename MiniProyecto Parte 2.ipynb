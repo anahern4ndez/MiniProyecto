{
 "cells": [
  {
   "cell_type": "markdown",
   "metadata": {},
   "source": [
    "# Mini proyecto 2\n",
    "María Ferrnanda López -17160\n",
    "Ana Lucía Hernández - 17138"
   ]
  },
  {
   "cell_type": "code",
   "execution_count": 1,
   "metadata": {},
   "outputs": [],
   "source": [
    "import math\n",
    "import matplotlib.pyplot as plt\n",
    "import numpy as np\n",
    "import random"
   ]
  },
  {
   "cell_type": "markdown",
   "metadata": {},
   "source": [
    "## Función acumulada ponderada"
   ]
  },
  {
   "cell_type": "markdown",
   "metadata": {},
   "source": [
    "$F(x)= \\sum \\limits _{i=1} ^{n} p_{i} F_{i}(x)$"
   ]
  },
  {
   "cell_type": "markdown",
   "metadata": {},
   "source": [
    "#### Algoritmo para generar V"
   ]
  },
  {
   "cell_type": "markdown",
   "metadata": {},
   "source": [
    "1. Encontrar un valor para n\n",
    "2. Definir la función de probabilidad acumulada $F_{i}(x)$ para i de 1 hasta n\n",
    "3. Generar una constante H tal que,esta se encuentre entre el dominio de los enteros positivos y que cumpla con: $P(I = i)= p_{i}$\n",
    "4. Para todod los valores posibles evaluar:\n",
    "    Si $I=i$ entonces:\n",
    "    obtener $Y_{i}$ a partir de $F_{i} (x)$\n",
    "5. Asignar X como $Y_{i}$\n",
    "6. Repetir pasos 3 y 4 para todo los valores de I y así obtener la variable aleatoria\n"
   ]
  },
  {
   "cell_type": "markdown",
   "metadata": {},
   "source": [
    "#### Demostración de algoritmo"
   ]
  },
  {
   "cell_type": "markdown",
   "metadata": {},
   "source": [
    "$P(X ≤ x)= \\sum \\limits _{i=1} ^{n} P(X ≤ x│I = i)P(I = i)$\n",
    "$P(X ≤ x)= \\sum \\limits _{i=1} ^{n} P(Y_{i} ≤ x)P(I = i)$\n",
    "$P(X ≤ x)= \\sum \\limits _{i=1} ^{n} F_{i}(x)p_{i} $\n",
    "$P(X ≤ x)=  F_{i} (x) $"
   ]
  },
  {
   "cell_type": "markdown",
   "metadata": {},
   "source": [
    "## Valor presente neto"
   ]
  },
  {
   "cell_type": "code",
   "execution_count": 5,
   "metadata": {},
   "outputs": [],
   "source": [
    "## funcion para generar variables aleatorias normales - tomada de ejemplo en clase \n",
    "def varNormal(mu, sigma):\n",
    "    while True:\n",
    "        lambdav = 1\n",
    "        y1 = -(1/lambdav) * math.log(random.random())\n",
    "        y2 = -(1/lambdav) * math.log(random.random())\n",
    "        if (y2 - ((y1 - 1) ** 2) / 2) > 0:\n",
    "            y1 = y2 - ((y1 - 1) ** 2) / 2\n",
    "            x = random.random()\n",
    "            if x <= 0.5:\n",
    "                return mu + sigma * y1\n",
    "            else:\n",
    "                return mu - sigma * y1\n",
    "    "
   ]
  },
  {
   "cell_type": "code",
   "execution_count": 21,
   "metadata": {},
   "outputs": [],
   "source": [
    "#simulacion se aplica la formula de vpn \n",
    "def simulacionHotel(iters, retorno):\n",
    "    sims = []\n",
    "    for x in range(iters):\n",
    "        vpn = -800\n",
    "        vpn += varNormal(-800,50) / ((1 + retorno) ** 1) \n",
    "        vpn += varNormal(-800,100) / ((1 + retorno) ** 2) \n",
    "        vpn += varNormal(-700,150) / ((1 + retorno) ** 3) \n",
    "        vpn += varNormal(300,200) / ((1 + retorno) ** 4) \n",
    "        vpn += varNormal(400,200) / ((1 + retorno) ** 5) \n",
    "        vpn += varNormal(500,200) / ((1 + retorno) ** 6) \n",
    "        vpn += np.random.uniform(200,8440) / ((1 + retorno) ** 7)\n",
    "        sims.append(vpn)\n",
    "    \n",
    "    plt.hist(sims, bins=10)\n",
    "    title = 'Histograma Hotel ' + str(iters) + ' iteraciones'\n",
    "    plt.xlabel('Valor',fontsize=15)\n",
    "    plt.ylabel('Frecuencia',fontsize=15)\n",
    "    plt.title(title)\n",
    "    plt.show()\n",
    "    \n",
    "    return sims"
   ]
  },
  {
   "cell_type": "code",
   "execution_count": 22,
   "metadata": {},
   "outputs": [],
   "source": [
    "def simulacionMall(iters, retorno):\n",
    "    sims = []\n",
    "    for x in range(iters):\n",
    "        vpn = -900\n",
    "        vpn += varNormal(-600,50) / ((1 + retorno) ** 1) \n",
    "        vpn += varNormal(-200,50) / ((1 + retorno) ** 2)\n",
    "        vpn += varNormal(-600,100) / ((1 + retorno) ** 3) \n",
    "        vpn += varNormal(250,150) / ((1 + retorno) ** 4) \n",
    "        vpn += varNormal(350,150) / ((1 + retorno) ** 5) \n",
    "        vpn += varNormal(400,150) / ((1 + retorno) ** 6) \n",
    "        vpn += np.random.uniform(1600,6000) / ((1 + retorno) ** 7) \n",
    "        sims.append(vpn)\n",
    "    plt.hist(sims, bins=10, color=\"orange\")\n",
    "    title = 'Histograma Centro Comercial ' + str(iters) + ' iteraciones'\n",
    "    plt.xlabel('Valor',fontsize=15)\n",
    "    plt.ylabel('Frecuencia',fontsize=15)\n",
    "    plt.title(title)\n",
    "    plt.show()\n",
    "    \n",
    "    return sims"
   ]
  },
  {
   "cell_type": "code",
   "execution_count": 33,
   "metadata": {},
   "outputs": [],
   "source": [
    "def comparacionResultados(iters, simsH, simsC):\n",
    "    h = 0 \n",
    "    cc = 0\n",
    "\n",
    "    for sim in simsH:\n",
    "        if sim > 0:\n",
    "            h = h + 1\n",
    "\n",
    "    for sim in simsC:\n",
    "        if sim > 0:\n",
    "            cc = cc + 1 \n",
    "\n",
    "    print(\"Para la simulacion de 100 iteraciones el Hotel fue rentable en una cantidad de :\",h,\" -- \", h*100/iters,\"%\")\n",
    "    print(\"Para la simulacion de 100 iteraciones del Centro Comerical fue rentable una cantidad de :\",cc,\" -- \", cc*100/iters,\"%\")\n",
    "    "
   ]
  },
  {
   "cell_type": "markdown",
   "metadata": {},
   "source": [
    "### Simulacion para 100"
   ]
  },
  {
   "cell_type": "markdown",
   "metadata": {},
   "source": [
    "#### Hotel"
   ]
  },
  {
   "cell_type": "code",
   "execution_count": 25,
   "metadata": {},
   "outputs": [
    {
     "data": {
      "image/png": "[encoded data removed]",
      "text/plain": [
       "<Figure size 432x288 with 1 Axes>"
      ]
     },
     "metadata": {
      "needs_background": "light"
     },
     "output_type": "display_data"
    }
   ],
   "source": [
    "simsHotel1 = simulacionHotel(100, 0.1)"
   ]
  },
  {
   "cell_type": "markdown",
   "metadata": {},
   "source": [
    "#### Centro Comercial"
   ]
  },
  {
   "cell_type": "code",
   "execution_count": 26,
   "metadata": {},
   "outputs": [
    {
     "data": {
      "image/png": "[encoded data removed]",
      "text/plain": [
       "<Figure size 432x288 with 1 Axes>"
      ]
     },
     "metadata": {
      "needs_background": "light"
     },
     "output_type": "display_data"
    }
   ],
   "source": [
    "simsMall1 = simulacionMall(100, 0.1)"
   ]
  },
  {
   "cell_type": "markdown",
   "metadata": {},
   "source": [
    "### Simulacion 1000"
   ]
  },
  {
   "cell_type": "markdown",
   "metadata": {},
   "source": [
    "#### Hotel"
   ]
  },
  {
   "cell_type": "code",
   "execution_count": 27,
   "metadata": {},
   "outputs": [
    {
     "data": {
      "image/png": "[encoded data removed]",
      "text/plain": [
       "<Figure size 432x288 with 1 Axes>"
      ]
     },
     "metadata": {
      "needs_background": "light"
     },
     "output_type": "display_data"
    }
   ],
   "source": [
    "simsHotel2 = simulacionHotel(1000, 0.1)"
   ]
  },
  {
   "cell_type": "markdown",
   "metadata": {},
   "source": [
    "#### Centro Comercial"
   ]
  },
  {
   "cell_type": "code",
   "execution_count": 28,
   "metadata": {},
   "outputs": [
    {
     "data": {
      "image/png": "[encoded data removed]",
      "text/plain": [
       "<Figure size 432x288 with 1 Axes>"
      ]
     },
     "metadata": {
      "needs_background": "light"
     },
     "output_type": "display_data"
    }
   ],
   "source": [
    "simsMall2 = simulacionMall(1000, 0.1)"
   ]
  },
  {
   "cell_type": "markdown",
   "metadata": {},
   "source": [
    "### Simualacion 10000"
   ]
  },
  {
   "cell_type": "markdown",
   "metadata": {},
   "source": [
    "#### Hotel"
   ]
  },
  {
   "cell_type": "code",
   "execution_count": 30,
   "metadata": {},
   "outputs": [
    {
     "data": {
      "image/png": "[encoded data removed]",
      "text/plain": [
       "<Figure size 432x288 with 1 Axes>"
      ]
     },
     "metadata": {
      "needs_background": "light"
     },
     "output_type": "display_data"
    }
   ],
   "source": [
    "simsHotel3 = simulacionHotel(10000, 0.1)"
   ]
  },
  {
   "cell_type": "markdown",
   "metadata": {},
   "source": [
    "#### Centro Comercial"
   ]
  },
  {
   "cell_type": "code",
   "execution_count": 31,
   "metadata": {},
   "outputs": [
    {
     "data": {
      "image/png": "[encoded data removed]",
      "text/plain": [
       "<Figure size 432x288 with 1 Axes>"
      ]
     },
     "metadata": {
      "needs_background": "light"
     },
     "output_type": "display_data"
    }
   ],
   "source": [
    "simsMall3 = simulacionMall(10000, 0.1)"
   ]
  },
  {
   "cell_type": "markdown",
   "metadata": {},
   "source": [
    "### Analisis de resultados de VPN por cada proyecto"
   ]
  },
  {
   "cell_type": "code",
   "execution_count": 34,
   "metadata": {},
   "outputs": [
    {
     "name": "stdout",
     "output_type": "stream",
     "text": [
      "Para la simulacion de 100 iteraciones el Hotel fue rentable en una cantidad de : 53  --  53.0 %\n",
      "Para la simulacion de 100 iteraciones del Centro Comerical fue rentable una cantidad de : 73  --  73.0 %\n"
     ]
    }
   ],
   "source": [
    "comparacionResultados(100, simsHotel1, simsMall1)"
   ]
  },
  {
   "cell_type": "code",
   "execution_count": 35,
   "metadata": {},
   "outputs": [
    {
     "name": "stdout",
     "output_type": "stream",
     "text": [
      "Para la simulacion de 100 iteraciones el Hotel fue rentable en una cantidad de : 542  --  54.2 %\n",
      "Para la simulacion de 100 iteraciones del Centro Comerical fue rentable una cantidad de : 721  --  72.1 %\n"
     ]
    }
   ],
   "source": [
    "comparacionResultados(1000, simsHotel2, simsMall2)"
   ]
  },
  {
   "cell_type": "code",
   "execution_count": 36,
   "metadata": {},
   "outputs": [
    {
     "name": "stdout",
     "output_type": "stream",
     "text": [
      "Para la simulacion de 100 iteraciones el Hotel fue rentable en una cantidad de : 5524  --  55.24 %\n",
      "Para la simulacion de 100 iteraciones del Centro Comerical fue rentable una cantidad de : 7161  --  71.61 %\n"
     ]
    }
   ],
   "source": [
    "comparacionResultados(10000, simsHotel3, simsMall3)"
   ]
  },
  {
   "cell_type": "markdown",
   "metadata": {},
   "source": [
    "Es más rentable invertir en el proyecto del centro comercial, ya que se puede observar que los porcentajes en los que un vpn sera más alto o mayor a 0, es mayor a comparación del proyecto del hotel en el cual no logra aumentar de un 55%"
   ]
  },
  {
   "cell_type": "code",
   "execution_count": null,
   "metadata": {},
   "outputs": [],
   "source": []
  }
 ],
 "metadata": {
  "kernelspec": {
   "display_name": "Python 3",
   "language": "python",
   "name": "python3"
  },
  "language_info": {
   "codemirror_mode": {
    "name": "ipython",
    "version": 3
   },
   "file_extension": ".py",
   "mimetype": "text/x-python",
   "name": "python",
   "nbconvert_exporter": "python",
   "pygments_lexer": "ipython3",
   "version": "3.8.5"
  }
 },
 "nbformat": 4,
 "nbformat_minor": 4
}
